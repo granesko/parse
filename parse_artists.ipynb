{
 "cells": [
  {
   "cell_type": "markdown",
   "metadata": {},
   "source": [
    "# 1 часть\n",
    "В этой части мы сделаем список urls, где будем хранить все ссылки на html-страницы артистов с сайта https://www.viberate.com/\n",
    "1. С помощью запроса api.viberate.com/api/v1/artist/?limit=200&offset={} мы получаем записи в формате json где параметр limit задает количество json-записей (одна для каждого исполнителя), а параметр offset говорит нам какое будет смещение от 0вой записи.\n",
    "\n",
    "2. Далее мы находим в json файлах \"type\": \"artist\", \"slug\": \"artist_name\" и создаем ссылки 'https://www.viberate.com/artist/'  подставляя в их конец значение \"artist_name\" и добавляем их в список urls.\n",
    "3. Всего на сайте артистов 424053, в переменной number_of_artists вы можете указать количество, которое необходимо вам. (указывайте кратное 200)"
   ]
  },
  {
   "cell_type": "code",
   "execution_count": 3,
   "metadata": {},
   "outputs": [
    {
     "data": {
      "text/plain": [
       "2200"
      ]
     },
     "execution_count": 3,
     "metadata": {},
     "output_type": "execute_result"
    }
   ],
   "source": [
    "\n",
    "import requests\n",
    "from bs4 import BeautifulSoup as BS\n",
    "\n",
    "number_of_artists = 2200\n",
    "data = []\n",
    "urls = []\n",
    "jsons = []\n",
    "offset = 0\n",
    "offsets = [i for i in range(0,number_of_artists,200) ] # range(0, число ссылок которое хотим получить,200)\n",
    "\n",
    "\"\"\" \n",
    "{\"total\":424053,\"current\":200,\"limit\":200,\"offset\":200}}\n",
    "https://api.viberate.com/api/v1/artist/?limit=200&offset={} при limit=200 - offset=[1:2120]\n",
    "\"\"\"\n",
    "for j in range(len(offsets)):\n",
    "    \"\"\"\n",
    "    в этом цикле мы делаем запросы меняя в ссылке параметр offset в списке вида: \n",
    "    range(0, число ссылок которое хотим получить,200)\n",
    "    \"\"\"\n",
    "    response = requests.get('https://api.viberate.com/api/v1/artist/?limit=200&offset={}'.format(offsets[j]))\n",
    "    data.append(response.json())\n",
    "    for i in range(len(data[j]['data'])):\n",
    "\n",
    "        if data[j]['data'][i]['type']=='artist':\n",
    "\n",
    "            slug = data[j]['data'][i]['slug']\n",
    "            #print(slug)\n",
    "            url =  'https://www.viberate.com/artist/' + slug\n",
    "            #print(url)\n",
    "            urls.append(url)\n",
    "            \n",
    "        else:\n",
    "            continue\n",
    "len(urls)\n"
   ]
  },
  {
   "cell_type": "markdown",
   "metadata": {},
   "source": [
    "# 2 часть\n",
    "Здесь мы по нашим ссылкам из списка urls будем парсить объекты json страниц исполнителей и добавлять их в список jsons."
   ]
  },
  {
   "cell_type": "code",
   "execution_count": 14,
   "metadata": {},
   "outputs": [],
   "source": [
    "for i in range(10):\n",
    "    url = urls[i] # 'https://www.viberate.com/artist/**********'\n",
    "    headers = {'user-agent':'Mozilla/5.0 (Windows NT 10.0; Win64; x64) AppleWebKit/537.36 (KHTML, like Gecko) Chrome/80.0.3987.132 Safari/537.36',\n",
    "               'accept':'*/*'}\n",
    "    html = requests.get(url, headers=headers, params=None)\n",
    "    if html.status_code == 200:\n",
    "        soup = BS(html.text, 'html.parser')\n",
    "        #после того, как получили страницу получаем по id = '__NEXT_DATA__' текст jsona.\n",
    "        json = soup.find_all('script', id = '__NEXT_DATA__')[0].get_text()\n",
    "    jsons.append(json)"
   ]
  },
  {
   "cell_type": "markdown",
   "metadata": {},
   "source": [
    "Я прервал выполнение программы, но мы можем заметить что 10 объектов успели записаться, если у вас есть время можете не останавливать и процесс будет продолжаться до тех пор, пока не создаться количество записей в списке jsons равное значению number_of_artists."
   ]
  },
  {
   "cell_type": "code",
   "execution_count": 15,
   "metadata": {},
   "outputs": [
    {
     "data": {
      "text/plain": [
       "10"
      ]
     },
     "execution_count": 15,
     "metadata": {},
     "output_type": "execute_result"
    }
   ],
   "source": [
    "len(jsons)"
   ]
  },
  {
   "cell_type": "code",
   "execution_count": null,
   "metadata": {},
   "outputs": [],
   "source": []
  }
 ],
 "metadata": {
  "kernelspec": {
   "display_name": "Python 3",
   "language": "python",
   "name": "python3"
  },
  "language_info": {
   "codemirror_mode": {
    "name": "ipython",
    "version": 3
   },
   "file_extension": ".py",
   "mimetype": "text/x-python",
   "name": "python",
   "nbconvert_exporter": "python",
   "pygments_lexer": "ipython3",
   "version": "3.7.4"
  }
 },
 "nbformat": 4,
 "nbformat_minor": 2
}
